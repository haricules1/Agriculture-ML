{
 "cells": [
  {
   "cell_type": "code",
   "execution_count": 1,
   "metadata": {},
   "outputs": [],
   "source": [
    "import numpy as np\n",
    "import pandas as pd\n",
    "import matplotlib.pyplot as plt\n",
    "import seaborn as sns\n",
    "import pandas_profiling as pp\n",
    "from boruta import BorutaPy\n",
    "from scipy import stats"
   ]
  },
  {
   "cell_type": "code",
   "execution_count": 2,
   "metadata": {},
   "outputs": [],
   "source": [
    "from sklearn.model_selection import cross_val_score\n",
    "from sklearn import metrics, preprocessing\n",
    "from sklearn.model_selection import train_test_split, cross_validate\n",
    "from sklearn.preprocessing import StandardScaler\n",
    "from sklearn import linear_model\n",
    "from   sklearn.metrics  import mean_squared_error,r2_score,accuracy_score,f1_score"
   ]
  },
  {
   "cell_type": "code",
   "execution_count": 3,
   "metadata": {},
   "outputs": [],
   "source": [
    "import warnings\n",
    "warnings.filterwarnings('ignore')"
   ]
  },
  {
   "cell_type": "code",
   "execution_count": 4,
   "metadata": {},
   "outputs": [],
   "source": [
    "df=pd.read_csv('Agriculture.csv')"
   ]
  },
  {
   "cell_type": "code",
   "execution_count": 5,
   "metadata": {},
   "outputs": [],
   "source": [
    "df = np.log(df.select_dtypes(include=['float64','int64'])+1).join(df.select_dtypes(include=['object']))"
   ]
  },
  {
   "cell_type": "code",
   "execution_count": 6,
   "metadata": {},
   "outputs": [],
   "source": [
    "df.dropna(inplace=True)"
   ]
  },
  {
   "cell_type": "code",
   "execution_count": 7,
   "metadata": {},
   "outputs": [],
   "source": [
    "from sklearn.preprocessing import LabelEncoder\n",
    "label_encoder = LabelEncoder()"
   ]
  },
  {
   "cell_type": "code",
   "execution_count": 8,
   "metadata": {},
   "outputs": [],
   "source": [
    "df['Crop Name']= label_encoder.fit_transform(df['Crop Name'])\n",
    "df['State Name']= label_encoder.fit_transform(df['State Name'])\n",
    "df['Season']= label_encoder.fit_transform(df['Season'])\n",
    "df['City Name']= label_encoder.fit_transform(df['City Name'])\n",
    "df['Input Cost\\n(High/Medium/Low)']= label_encoder.fit_transform(df['Input Cost\\n(High/Medium/Low)'])\n",
    "df['Market Price\\n(High/Medium/Low)']= label_encoder.fit_transform(df['Market Price\\n(High/Medium/Low)'])\n",
    "df['Return\\n(High/Moderate/Low)']= label_encoder.fit_transform(df['Return\\n(High/Moderate/Low)'])"
   ]
  },
  {
   "cell_type": "code",
   "execution_count": 9,
   "metadata": {},
   "outputs": [
    {
     "data": {
      "text/html": [
       "<div>\n",
       "<style scoped>\n",
       "    .dataframe tbody tr th:only-of-type {\n",
       "        vertical-align: middle;\n",
       "    }\n",
       "\n",
       "    .dataframe tbody tr th {\n",
       "        vertical-align: top;\n",
       "    }\n",
       "\n",
       "    .dataframe thead th {\n",
       "        text-align: right;\n",
       "    }\n",
       "</style>\n",
       "<table border=\"1\" class=\"dataframe\">\n",
       "  <thead>\n",
       "    <tr style=\"text-align: right;\">\n",
       "      <th></th>\n",
       "      <th>Crop_Year</th>\n",
       "      <th>Area</th>\n",
       "      <th>Production</th>\n",
       "      <th>Rain Fall</th>\n",
       "      <th>Production\n",
       "per Area</th>\n",
       "      <th>State Name</th>\n",
       "      <th>City Name</th>\n",
       "      <th>Season</th>\n",
       "      <th>Crop Name</th>\n",
       "      <th>Input Cost\n",
       "(High/Medium/Low)</th>\n",
       "      <th>Market Price\n",
       "(High/Medium/Low)</th>\n",
       "      <th>Return\n",
       "(High/Moderate/Low)</th>\n",
       "    </tr>\n",
       "  </thead>\n",
       "  <tbody>\n",
       "    <tr>\n",
       "      <th>0</th>\n",
       "      <td>7.601402</td>\n",
       "      <td>7.134891</td>\n",
       "      <td>7.601402</td>\n",
       "      <td>6.405559</td>\n",
       "      <td>0.953547</td>\n",
       "      <td>0</td>\n",
       "      <td>427</td>\n",
       "      <td>1</td>\n",
       "      <td>2</td>\n",
       "      <td>2</td>\n",
       "      <td>1</td>\n",
       "      <td>0</td>\n",
       "    </tr>\n",
       "    <tr>\n",
       "      <th>1</th>\n",
       "      <td>7.601402</td>\n",
       "      <td>1.098612</td>\n",
       "      <td>0.693147</td>\n",
       "      <td>6.405559</td>\n",
       "      <td>0.405465</td>\n",
       "      <td>0</td>\n",
       "      <td>427</td>\n",
       "      <td>1</td>\n",
       "      <td>74</td>\n",
       "      <td>0</td>\n",
       "      <td>0</td>\n",
       "      <td>1</td>\n",
       "    </tr>\n",
       "    <tr>\n",
       "      <th>2</th>\n",
       "      <td>7.601402</td>\n",
       "      <td>4.634729</td>\n",
       "      <td>5.774552</td>\n",
       "      <td>6.405559</td>\n",
       "      <td>1.422399</td>\n",
       "      <td>0</td>\n",
       "      <td>427</td>\n",
       "      <td>1</td>\n",
       "      <td>95</td>\n",
       "      <td>1</td>\n",
       "      <td>1</td>\n",
       "      <td>0</td>\n",
       "    </tr>\n",
       "    <tr>\n",
       "      <th>3</th>\n",
       "      <td>7.601402</td>\n",
       "      <td>5.176150</td>\n",
       "      <td>6.464588</td>\n",
       "      <td>7.231721</td>\n",
       "      <td>1.535155</td>\n",
       "      <td>0</td>\n",
       "      <td>427</td>\n",
       "      <td>4</td>\n",
       "      <td>7</td>\n",
       "      <td>1</td>\n",
       "      <td>1</td>\n",
       "      <td>0</td>\n",
       "    </tr>\n",
       "    <tr>\n",
       "      <th>4</th>\n",
       "      <td>7.601402</td>\n",
       "      <td>6.580639</td>\n",
       "      <td>5.111988</td>\n",
       "      <td>7.231721</td>\n",
       "      <td>0.206336</td>\n",
       "      <td>0</td>\n",
       "      <td>427</td>\n",
       "      <td>4</td>\n",
       "      <td>22</td>\n",
       "      <td>0</td>\n",
       "      <td>0</td>\n",
       "      <td>1</td>\n",
       "    </tr>\n",
       "  </tbody>\n",
       "</table>\n",
       "</div>"
      ],
      "text/plain": [
       "   Crop_Year      Area  Production  Rain Fall  Production\\nper Area  \\\n",
       "0   7.601402  7.134891    7.601402   6.405559              0.953547   \n",
       "1   7.601402  1.098612    0.693147   6.405559              0.405465   \n",
       "2   7.601402  4.634729    5.774552   6.405559              1.422399   \n",
       "3   7.601402  5.176150    6.464588   7.231721              1.535155   \n",
       "4   7.601402  6.580639    5.111988   7.231721              0.206336   \n",
       "\n",
       "   State Name  City Name  Season  Crop Name  Input Cost\\n(High/Medium/Low)  \\\n",
       "0           0        427       1          2                              2   \n",
       "1           0        427       1         74                              0   \n",
       "2           0        427       1         95                              1   \n",
       "3           0        427       4          7                              1   \n",
       "4           0        427       4         22                              0   \n",
       "\n",
       "   Market Price\\n(High/Medium/Low)  Return\\n(High/Moderate/Low)  \n",
       "0                                1                            0  \n",
       "1                                0                            1  \n",
       "2                                1                            0  \n",
       "3                                1                            0  \n",
       "4                                0                            1  "
      ]
     },
     "execution_count": 9,
     "metadata": {},
     "output_type": "execute_result"
    }
   ],
   "source": [
    "df.head()"
   ]
  },
  {
   "cell_type": "code",
   "execution_count": 10,
   "metadata": {},
   "outputs": [],
   "source": [
    "from sklearn.model_selection import KFold\n",
    "from sklearn.model_selection import GridSearchCV\n",
    "from sklearn.tree import DecisionTreeClassifier\n",
    "from sklearn import metrics\n",
    "from sklearn.metrics import accuracy_score,f1_score,recall_score,precision_score, confusion_matrix"
   ]
  },
  {
   "cell_type": "markdown",
   "metadata": {},
   "source": [
    "# KNN"
   ]
  },
  {
   "cell_type": "code",
   "execution_count": 11,
   "metadata": {},
   "outputs": [],
   "source": [
    "X=df.drop(['Market Price\\n(High/Medium/Low)','Return\\n(High/Moderate/Low)'],axis=1)\n",
    "y=df['Market Price\\n(High/Medium/Low)']"
   ]
  },
  {
   "cell_type": "code",
   "execution_count": 12,
   "metadata": {},
   "outputs": [],
   "source": [
    "from sklearn.neighbors import KNeighborsClassifier\n",
    "KNN = KNeighborsClassifier()"
   ]
  },
  {
   "cell_type": "code",
   "execution_count": 13,
   "metadata": {},
   "outputs": [],
   "source": [
    "X_train, X_test, y_train, y_test = train_test_split(X, y, test_size=0.33, random_state=42)"
   ]
  },
  {
   "cell_type": "code",
   "execution_count": null,
   "metadata": {},
   "outputs": [],
   "source": [
    "KNN.fit(X,y)\n",
    "KNN_pred_test=KNN.predict(X_test)\n",
    "KNN_pred_train=KNN.predict(X_train)\n",
    "\n",
    "KNN_accuracy_test=KNN.score(X_test,y_test)\n",
    "KNN_accuracy_train=KNN.score(X_train,y_train)\n",
    "\n",
    "KNN_cv_results = cross_validate(KNN, X, y, cv=3)\n",
    "KNN_CV_accuracy_test=KNN_cv_results['test_score'].mean()\n",
    "KNN_CV_accuracy_train=KNN_cv_results['train_score'].mean()\n",
    "\n",
    "print('KNN accuracy train  :',KNN_accuracy_train)\n",
    "print('KNN accuracy test  :',KNN_accuracy_test)\n",
    "\n",
    "print('KNN CV accuracy train :',KNN_CV_accuracy_train)\n",
    "print('KNN CV accuracy test  :',KNN_CV_accuracy_test)"
   ]
  },
  {
   "cell_type": "markdown",
   "metadata": {},
   "source": [
    "# Grid Search"
   ]
  },
  {
   "cell_type": "code",
   "execution_count": null,
   "metadata": {},
   "outputs": [],
   "source": [
    "param_grid={'metric':('minkowski','euclidean'), 'n_neighbors':(5,11,14)}\n",
    "KNN_GS=GridSearchCV(estimator=KNN,param_grid=param_grid,cv=3,n_jobs=-1,verbose=1)\n",
    "KNN_GS.fit(X_train,y_train).best_params_"
   ]
  },
  {
   "cell_type": "code",
   "execution_count": 14,
   "metadata": {},
   "outputs": [
    {
     "name": "stdout",
     "output_type": "stream",
     "text": [
      "KNN accuracy train  : 0.932215720970954\n",
      "KNN accuracy test  : 0.9321783541546704\n",
      "KNN CV accuracy train : 0.9349194906026036\n",
      "KNN CV accuracy test  : 0.49036070696750067\n",
      "---------f1----------\n",
      "KNN f1 micro test  : 0.9321783541546704\n",
      "KNN f1 micro train  : 0.9321783541546704\n",
      "KNN CV f1 micro test : 0.4903607069675006\n",
      "KNN CV f1 micro train : 0.9349194906026036\n",
      "\n",
      "KNN f1 macro test  : 0.9342112357411329\n",
      "KNN f1 macro train  : 0.9342112357411329\n",
      "KNN CV f1 macro test : 0.49143261641147795\n",
      "KNN CV f1 macro train : 0.9368725920681804\n"
     ]
    }
   ],
   "source": [
    "KNN = KNeighborsClassifier(metric= 'minkowski', n_neighbors= 5)\n",
    "KNN.fit(X,y)\n",
    "KNN_pred_test=KNN.predict(X_test)\n",
    "KNN_pred_train=KNN.predict(X_train)\n",
    "\n",
    "KNN_accuracy_test=KNN.score(X_test,y_test)\n",
    "KNN_accuracy_train=KNN.score(X_train,y_train)\n",
    "\n",
    "KNN_cv_results = cross_validate(KNN, X, y, cv=3,scoring=['accuracy','f1_micro','f1_macro'])\n",
    "KNN_CV_accuracy_test=KNN_cv_results['test_accuracy'].mean()\n",
    "KNN_CV_accuracy_train=KNN_cv_results['train_accuracy'].mean()\n",
    "\n",
    "KNN_CV_f1_micro_test=KNN_cv_results['test_f1_micro'].mean()\n",
    "KNN_CV_f1_micro_train=KNN_cv_results['train_f1_micro'].mean()\n",
    "\n",
    "KNN_CV_f1_macro_test=KNN_cv_results['test_f1_macro'].mean()\n",
    "KNN_CV_f1_macro_train=KNN_cv_results['train_f1_macro'].mean()\n",
    "\n",
    "print('KNN accuracy train  :',KNN_accuracy_train)\n",
    "print('KNN accuracy test  :',KNN_accuracy_test)\n",
    "\n",
    "print('KNN CV accuracy train :',KNN_CV_accuracy_train)\n",
    "print('KNN CV accuracy test  :',KNN_CV_accuracy_test)\n",
    "\n",
    "\n",
    "# f1 score\n",
    "\n",
    "KNN_f1_micro_test=f1_score(y_test, KNN_pred_test, average='micro')  \n",
    "KNN_f1_micro_train=f1_score(y_test, KNN_pred_test, average='micro') \n",
    "\n",
    "KNN_f1_macro_test=f1_score(y_test, KNN_pred_test, average='macro')  \n",
    "KNN_f1_macro_train=f1_score(y_test, KNN_pred_test, average='macro') \n",
    "\n",
    "print('---------f1----------')\n",
    "print('KNN f1 micro test  :',KNN_f1_micro_test)\n",
    "print('KNN f1 micro train  :',KNN_f1_micro_train)\n",
    "\n",
    "print('KNN CV f1 micro test :',KNN_CV_f1_micro_test)\n",
    "print('KNN CV f1 micro train :',KNN_CV_f1_micro_train)\n",
    "print()\n",
    "\n",
    "print('KNN f1 macro test  :',KNN_f1_macro_test)\n",
    "print('KNN f1 macro train  :',KNN_f1_macro_train)\n",
    "\n",
    "print('KNN CV f1 macro test :',KNN_CV_f1_macro_test)\n",
    "print('KNN CV f1 macro train :',KNN_CV_f1_macro_train)"
   ]
  },
  {
   "cell_type": "markdown",
   "metadata": {},
   "source": [
    "# Naive Bayes"
   ]
  },
  {
   "cell_type": "code",
   "execution_count": 15,
   "metadata": {},
   "outputs": [],
   "source": [
    "X=df.drop(['Market Price\\n(High/Medium/Low)','Return\\n(High/Moderate/Low)'],axis=1)\n",
    "y=df['Market Price\\n(High/Medium/Low)']"
   ]
  },
  {
   "cell_type": "code",
   "execution_count": 16,
   "metadata": {},
   "outputs": [],
   "source": [
    "from sklearn.naive_bayes import BernoulliNB\n",
    "NB = BernoulliNB()"
   ]
  },
  {
   "cell_type": "code",
   "execution_count": 17,
   "metadata": {},
   "outputs": [
    {
     "data": {
      "text/plain": [
       "Index(['Production', 'Production\\nper Area', 'City Name', 'Season',\n",
       "       'Input Cost\\n(High/Medium/Low)'],\n",
       "      dtype='object')"
      ]
     },
     "execution_count": 17,
     "metadata": {},
     "output_type": "execute_result"
    }
   ],
   "source": [
    "from sklearn.feature_selection import RFE\n",
    "rfe = RFE(NB)           \n",
    "rfe = rfe.fit(X,y)\n",
    "X.columns[rfe.support_]"
   ]
  },
  {
   "cell_type": "code",
   "execution_count": 18,
   "metadata": {},
   "outputs": [],
   "source": [
    "X=df[['Production', 'Production\\nper Area', 'City Name', 'Season',\n",
    "       'Input Cost\\n(High/Medium/Low)']]"
   ]
  },
  {
   "cell_type": "code",
   "execution_count": 19,
   "metadata": {},
   "outputs": [],
   "source": [
    "X_train, X_test, y_train, y_test = train_test_split(X, y, test_size=0.33, random_state=42)"
   ]
  },
  {
   "cell_type": "code",
   "execution_count": 20,
   "metadata": {},
   "outputs": [
    {
     "name": "stdout",
     "output_type": "stream",
     "text": [
      "NB accuracy train  : 0.6413981047037135\n",
      "NB accuracy test  : 0.6384723230603611\n",
      "NB CV accuracy train : 0.6404677031040994\n",
      "NB CV accuracy test  : 0.640432591765756\n",
      "---------f1----------\n",
      "NB f1 micro test  : 0.6384723230603611\n",
      "NB f1 micro train  : 0.6384723230603611\n",
      "NB CV f1 micro test : 0.640432591765756\n",
      "NB CV f1 micro train : 0.6404677031040994\n",
      "\n",
      "NB f1 macro test  : 0.5635162068982686\n",
      "NB f1 macro train  : 0.5635162068982686\n",
      "NB CV f1 macro test : 0.5642441974278901\n",
      "NB CV f1 macro train : 0.5643374791498995\n"
     ]
    }
   ],
   "source": [
    "NB.fit(X_train, y_train)\n",
    "\n",
    "NB_pred_test=NB.predict(X_test)\n",
    "NB_pred_train=NB.predict(X_train)\n",
    "\n",
    "NB_accuracy_test=NB.score(X_test,y_test)\n",
    "NB_accuracy_train=NB.score(X_train,y_train)\n",
    "\n",
    "NB_cv_results = cross_validate(NB, X, y, cv=3, scoring=['accuracy','f1_micro','f1_macro'])\n",
    "NB_CV_accuracy_test=NB_cv_results['test_accuracy'].mean()\n",
    "NB_CV_accuracy_train=NB_cv_results['train_accuracy'].mean()\n",
    "\n",
    "NB_CV_f1_micro_test=NB_cv_results['test_f1_micro'].mean()\n",
    "NB_CV_f1_micro_train=NB_cv_results['train_f1_micro'].mean()\n",
    "\n",
    "NB_CV_f1_macro_test=NB_cv_results['test_f1_macro'].mean()\n",
    "NB_CV_f1_macro_train=NB_cv_results['train_f1_macro'].mean()\n",
    "\n",
    "\n",
    "print('NB accuracy train  :',NB_accuracy_train)\n",
    "print('NB accuracy test  :',NB_accuracy_test)\n",
    "\n",
    "print('NB CV accuracy train :',NB_CV_accuracy_train)\n",
    "print('NB CV accuracy test  :',NB_CV_accuracy_test)\n",
    "\n",
    "# f1 score\n",
    "\n",
    "NB_f1_micro_test=f1_score(y_test, NB_pred_test, average='micro')  \n",
    "NB_f1_micro_train=f1_score(y_test, NB_pred_test, average='micro') \n",
    "\n",
    "NB_f1_macro_test=f1_score(y_test, NB_pred_test, average='macro')  \n",
    "NB_f1_macro_train=f1_score(y_test, NB_pred_test, average='macro') \n",
    "\n",
    "print('---------f1----------')\n",
    "print('NB f1 micro test  :',NB_f1_micro_test)\n",
    "print('NB f1 micro train  :',NB_f1_micro_train)\n",
    "\n",
    "print('NB CV f1 micro test :',NB_CV_f1_micro_test)\n",
    "print('NB CV f1 micro train :',NB_CV_f1_micro_train)\n",
    "print()\n",
    "\n",
    "print('NB f1 macro test  :',NB_f1_macro_test)\n",
    "print('NB f1 macro train  :',NB_f1_macro_train)\n",
    "\n",
    "print('NB CV f1 macro test :',NB_CV_f1_macro_test)\n",
    "print('NB CV f1 macro train :',NB_CV_f1_macro_train)"
   ]
  },
  {
   "cell_type": "code",
   "execution_count": 21,
   "metadata": {},
   "outputs": [
    {
     "data": {
      "image/png": "[encoded data removed]",
      "text/plain": [
       "<Figure size 432x288 with 1 Axes>"
      ]
     },
     "metadata": {
      "needs_background": "light"
     },
     "output_type": "display_data"
    },
    {
     "data": {
      "image/png": "[encoded data removed]",
      "text/plain": [
       "<Figure size 432x288 with 1 Axes>"
      ]
     },
     "metadata": {
      "needs_background": "light"
     },
     "output_type": "display_data"
    },
    {
     "data": {
      "image/png": "[encoded data removed]",
      "text/plain": [
       "<Figure size 432x288 with 1 Axes>"
      ]
     },
     "metadata": {
      "needs_background": "light"
     },
     "output_type": "display_data"
    }
   ],
   "source": [
    "plt.xticks(rotation='vertical')\n",
    "sns.barplot(X.columns,NB.coef_[0])\n",
    "plt.show()\n",
    "plt.xticks(rotation='vertical')\n",
    "\n",
    "sns.barplot(X.columns,NB.coef_[1])\n",
    "plt.show()\n",
    "plt.xticks(rotation='vertical')\n",
    "\n",
    "sns.barplot(X.columns,NB.coef_[2])\n",
    "plt.show()\n"
   ]
  },
  {
   "cell_type": "markdown",
   "metadata": {},
   "source": [
    "# Decision Tree"
   ]
  },
  {
   "cell_type": "code",
   "execution_count": 22,
   "metadata": {},
   "outputs": [
    {
     "data": {
      "text/plain": [
       "Index(['Production\\nper Area', 'City Name', 'Season', 'Crop Name',\n",
       "       'Input Cost\\n(High/Medium/Low)'],\n",
       "      dtype='object')"
      ]
     },
     "execution_count": 22,
     "metadata": {},
     "output_type": "execute_result"
    }
   ],
   "source": [
    "from sklearn.tree import DecisionTreeClassifier\n",
    "DT=DecisionTreeClassifier()\n",
    "\n",
    "X=df.drop(['Market Price\\n(High/Medium/Low)','Return\\n(High/Moderate/Low)'],axis=1)\n",
    "y=df['Market Price\\n(High/Medium/Low)']\n",
    "\n",
    "from sklearn.feature_selection import RFE\n",
    "rfe = RFE(DT)             # running RFE with 13 variables as output\n",
    "rfe = rfe.fit(X,y)\n",
    "X.columns[rfe.support_]"
   ]
  },
  {
   "cell_type": "code",
   "execution_count": 23,
   "metadata": {},
   "outputs": [],
   "source": [
    "X=df[['Production\\nper Area', 'City Name', 'Season', 'Crop Name','Input Cost\\n(High/Medium/Low)']]"
   ]
  },
  {
   "cell_type": "code",
   "execution_count": 24,
   "metadata": {},
   "outputs": [],
   "source": [
    "X_train, X_test, y_train, y_test = train_test_split(X, y, test_size=0.33, random_state=42)"
   ]
  },
  {
   "cell_type": "code",
   "execution_count": null,
   "metadata": {},
   "outputs": [],
   "source": [
    "DT.fit(X_train, y_train)\n",
    "\n",
    "DT_pred_test=DT.predict(X_test)\n",
    "DT_pred_train=DT.predict(X_train)\n",
    "\n",
    "DT_accuracy_test=DT.score(X_test,y_test)\n",
    "DT_accuracy_train=DT.score(X_train,y_train)\n",
    "\n",
    "DT_cv_results = cross_validate(DT, X, y, cv=3)\n",
    "DT_CV_accuracy_test=DT_cv_results['test_score'].mean()\n",
    "DT_CV_accuracy_train=DT_cv_results['train_score'].mean()\n",
    "\n",
    "print('DT accuracy train :',DT_accuracy_train)\n",
    "print('DT accuracy test  :',DT_accuracy_test)\n",
    "\n",
    "print('DT CV accuracy train :',DT_CV_accuracy_train)\n",
    "print('DT CV accuracy test  :',DT_CV_accuracy_test)"
   ]
  },
  {
   "cell_type": "markdown",
   "metadata": {},
   "source": [
    "# DT Grid Search"
   ]
  },
  {
   "cell_type": "code",
   "execution_count": null,
   "metadata": {},
   "outputs": [],
   "source": [
    "param_grid={\n",
    "    'max_depth':range(2,10),\n",
    "    'min_samples_leaf':range(100,400,200),\n",
    "    'min_samples_split':range(20,500,200),\n",
    "    'max_features':range(1,5)\n",
    "}\n",
    "\n",
    "DT_GS=GridSearchCV(estimator=DT,param_grid=param_grid,cv=3,n_jobs=-1,verbose=1)\n",
    "DT_GS.fit(X_train,y_train).best_params_"
   ]
  },
  {
   "cell_type": "code",
   "execution_count": 95,
   "metadata": {},
   "outputs": [
    {
     "name": "stdout",
     "output_type": "stream",
     "text": [
      "DT accuracy train : 0.7424887940761201\n",
      "DT accuracy test  : 0.7426958415742433\n",
      "DT CV accuracy train : 0.9190316264313686\n",
      "DT CV accuracy test  : 0.9264372373283685\n",
      "---------f1----------\n",
      "DT f1 micro test  : 0.7426958415742433\n",
      "DT f1 micro train  : 0.7426958415742433\n",
      "DT CV f1 micro test : 0.9190316264313686\n",
      "DT CV f1 micro train : 0.9190316264313686\n",
      "\n",
      "DT f1 macro test  : 0.7661610557390403\n",
      "DT f1 macro train  : 0.7661610557390403\n",
      "DT CV f1 macro test : 0.9285982953317152\n",
      "DT CV f1 macro train : 0.9204112862326421\n"
     ]
    },
    {
     "data": {
      "text/plain": [
       "(array([0, 1, 2, 3, 4]), <a list of 5 Text xticklabel objects>)"
      ]
     },
     "execution_count": 95,
     "metadata": {},
     "output_type": "execute_result"
    },
    {
     "data": {
      "image/png": "[encoded data removed]",
      "text/plain": [
       "<Figure size 432x288 with 1 Axes>"
      ]
     },
     "metadata": {
      "needs_background": "light"
     },
     "output_type": "display_data"
    }
   ],
   "source": [
    "DT=DecisionTreeClassifier(max_depth= 2, max_features= 3, min_samples_leaf= 100, min_samples_split= 220)\n",
    "\n",
    "DT.fit(X_train, y_train)\n",
    "DT_pred_test=DT.predict(X_test)\n",
    "DT_pred_train=DT.predict(X_train)\n",
    "\n",
    "DT_accuracy_test=DT.score(X_test,y_test)\n",
    "DT_accuracy_train=DT.score(X_train,y_train)\n",
    "\n",
    "DT_cv_results = cross_validate(DT, X, y, cv=3, scoring=['accuracy','f1_micro','f1_macro'])\n",
    "DT_CV_accuracy_test=DT_cv_results['test_accuracy'].mean()\n",
    "DT_CV_accuracy_train=DT_cv_results['train_accuracy'].mean()\n",
    "DT_CV_f1_micro_test=DT_cv_results['train_f1_micro'].mean()\n",
    "DT_CV_f1_micro_train=DT_cv_results['train_f1_micro'].mean()\n",
    "DT_CV_f1_macro_test=DT_cv_results['test_f1_macro'].mean()\n",
    "DT_CV_f1_macro_train=DT_cv_results['train_f1_macro'].mean()\n",
    "\n",
    "print('DT accuracy train :',DT_accuracy_train)\n",
    "print('DT accuracy test  :',DT_accuracy_test)\n",
    "\n",
    "print('DT CV accuracy train :',DT_CV_accuracy_train)\n",
    "print('DT CV accuracy test  :',DT_CV_accuracy_test)\n",
    "\n",
    "# f1 score\n",
    "\n",
    "DT_f1_micro_test=f1_score(y_test, DT_pred_test, average='micro')  \n",
    "DT_f1_micro_train=f1_score(y_test, DT_pred_test, average='micro') \n",
    "\n",
    "DT_f1_macro_test=f1_score(y_test, DT_pred_test, average='macro')  \n",
    "DT_f1_macro_train=f1_score(y_test, DT_pred_test, average='macro') \n",
    "\n",
    "\n",
    "print('---------f1----------')\n",
    "print('DT f1 micro test  :',DT_f1_micro_test)\n",
    "print('DT f1 micro train  :',DT_f1_micro_train)\n",
    "\n",
    "print('DT CV f1 micro test :',DT_CV_f1_micro_test)\n",
    "print('DT CV f1 micro train :',DT_CV_f1_micro_train)\n",
    "print()\n",
    "\n",
    "print('DT f1 macro test  :',DT_f1_macro_test)\n",
    "print('DT f1 macro train  :',DT_f1_macro_train)\n",
    "\n",
    "print('DT CV f1 macro test :',DT_CV_f1_macro_test)\n",
    "print('DT CV f1 macro train :',DT_CV_f1_macro_train)\n"
   ]
  },
  {
   "cell_type": "code",
   "execution_count": 99,
   "metadata": {},
   "outputs": [
    {
     "data": {
      "text/plain": [
       "[0.0, 0.0, 0.10324573610573647, 0.2346414327040912, 0.6621128311901723]"
      ]
     },
     "execution_count": 99,
     "metadata": {},
     "output_type": "execute_result"
    }
   ],
   "source": [
    "sorted(DT.feature_importances_)"
   ]
  },
  {
   "cell_type": "code",
   "execution_count": 104,
   "metadata": {},
   "outputs": [
    {
     "data": {
      "text/plain": [
       "(array([0, 1, 2, 3, 4]), <a list of 5 Text xticklabel objects>)"
      ]
     },
     "execution_count": 104,
     "metadata": {},
     "output_type": "execute_result"
    },
    {
     "data": {
      "image/png": "[encoded data removed]",
      "text/plain": [
       "<Figure size 432x288 with 1 Axes>"
      ]
     },
     "metadata": {
      "needs_background": "light"
     },
     "output_type": "display_data"
    }
   ],
   "source": [
    "sns.barplot(X.columns,DT.feature_importances_)\n",
    "plt.xticks(rotation='vertical')"
   ]
  },
  {
   "cell_type": "markdown",
   "metadata": {},
   "source": [
    "# BEST CLASSIFICATION MODEL"
   ]
  },
  {
   "cell_type": "markdown",
   "metadata": {},
   "source": [
    ",\n",
    "                           'train_f1_macro':[KNN_f1_macro_train,NB_f1_macro_train,DT_f1_macro_train],\n",
    "                           'test_f1_macro':[KNN_f1_macro_test,NB_f1_macro_test,DT_f1_macro_test],\n",
    "                           'CV_train_macro':[KNN_CV_f1_macro_train,NB_CV_f1_macro_train,DT_CV_f1_macro_train],\n",
    "                           'CV_test_macro':[KNN_CV_f1_macro_test,NB_CV_f1_macro_test,DT_CV_f1_macro_test]"
   ]
  },
  {
   "cell_type": "code",
   "execution_count": 34,
   "metadata": {},
   "outputs": [],
   "source": [
    "best_model_cv=pd.DataFrame({'train_acc':[KNN_accuracy_train,NB_accuracy_train,DT_accuracy_train],\n",
    "                        'test_acc':[KNN_accuracy_test,NB_accuracy_test,DT_accuracy_test],\n",
    "                           'CV_accuracy_train':[KNN_CV_accuracy_train,NB_CV_accuracy_train,DT_CV_accuracy_train],\n",
    "                           'CV_accuracy_test':[KNN_CV_accuracy_test,NB_CV_accuracy_test,DT_CV_accuracy_test],\n",
    "                           'train_f1_micro':[KNN_f1_micro_train,NB_f1_micro_train,DT_f1_micro_train],\n",
    "                           'test_f1_micro':[KNN_f1_micro_test,NB_f1_micro_test,DT_f1_micro_test],\n",
    "                           'CV_train_micro':[KNN_CV_f1_micro_train,NB_CV_f1_micro_train,DT_CV_f1_micro_train],\n",
    "                           'CV_test_micro':[KNN_CV_f1_micro_test,NB_CV_f1_micro_test,DT_CV_f1_micro_test]},\n",
    "                        index=['KNN','NB','DT'])"
   ]
  },
  {
   "cell_type": "code",
   "execution_count": 35,
   "metadata": {},
   "outputs": [
    {
     "data": {
      "text/html": [
       "<div>\n",
       "<style scoped>\n",
       "    .dataframe tbody tr th:only-of-type {\n",
       "        vertical-align: middle;\n",
       "    }\n",
       "\n",
       "    .dataframe tbody tr th {\n",
       "        vertical-align: top;\n",
       "    }\n",
       "\n",
       "    .dataframe thead th {\n",
       "        text-align: right;\n",
       "    }\n",
       "</style>\n",
       "<table border=\"1\" class=\"dataframe\">\n",
       "  <thead>\n",
       "    <tr style=\"text-align: right;\">\n",
       "      <th></th>\n",
       "      <th>train_acc</th>\n",
       "      <th>test_acc</th>\n",
       "      <th>CV_accuracy_train</th>\n",
       "      <th>CV_accuracy_test</th>\n",
       "      <th>train_f1_micro</th>\n",
       "      <th>test_f1_micro</th>\n",
       "      <th>CV_train_micro</th>\n",
       "      <th>CV_test_micro</th>\n",
       "    </tr>\n",
       "  </thead>\n",
       "  <tbody>\n",
       "    <tr>\n",
       "      <th>KNN</th>\n",
       "      <td>0.932216</td>\n",
       "      <td>0.932178</td>\n",
       "      <td>0.934919</td>\n",
       "      <td>0.490361</td>\n",
       "      <td>0.932178</td>\n",
       "      <td>0.932178</td>\n",
       "      <td>0.934919</td>\n",
       "      <td>0.490361</td>\n",
       "    </tr>\n",
       "    <tr>\n",
       "      <th>NB</th>\n",
       "      <td>0.641398</td>\n",
       "      <td>0.638472</td>\n",
       "      <td>0.640468</td>\n",
       "      <td>0.640433</td>\n",
       "      <td>0.638472</td>\n",
       "      <td>0.638472</td>\n",
       "      <td>0.640468</td>\n",
       "      <td>0.640433</td>\n",
       "    </tr>\n",
       "    <tr>\n",
       "      <th>DT</th>\n",
       "      <td>0.764204</td>\n",
       "      <td>0.765103</td>\n",
       "      <td>0.918833</td>\n",
       "      <td>0.918828</td>\n",
       "      <td>0.765103</td>\n",
       "      <td>0.765103</td>\n",
       "      <td>0.918833</td>\n",
       "      <td>0.918833</td>\n",
       "    </tr>\n",
       "  </tbody>\n",
       "</table>\n",
       "</div>"
      ],
      "text/plain": [
       "     train_acc  test_acc  CV_accuracy_train  CV_accuracy_test  train_f1_micro  \\\n",
       "KNN   0.932216  0.932178           0.934919          0.490361        0.932178   \n",
       "NB    0.641398  0.638472           0.640468          0.640433        0.638472   \n",
       "DT    0.764204  0.765103           0.918833          0.918828        0.765103   \n",
       "\n",
       "     test_f1_micro  CV_train_micro  CV_test_micro  \n",
       "KNN       0.932178        0.934919       0.490361  \n",
       "NB        0.638472        0.640468       0.640433  \n",
       "DT        0.765103        0.918833       0.918833  "
      ]
     },
     "execution_count": 35,
     "metadata": {},
     "output_type": "execute_result"
    }
   ],
   "source": [
    "best_model_cv"
   ]
  },
  {
   "cell_type": "code",
   "execution_count": 36,
   "metadata": {},
   "outputs": [
    {
     "data": {
      "text/plain": [
       "<Figure size 720x504 with 0 Axes>"
      ]
     },
     "metadata": {},
     "output_type": "display_data"
    },
    {
     "data": {
      "image/png": "[encoded data removed]",
      "text/plain": [
       "<Figure size 1080x576 with 2 Axes>"
      ]
     },
     "metadata": {
      "needs_background": "light"
     },
     "output_type": "display_data"
    }
   ],
   "source": [
    "plt.figure(figsize=(10,7))\n",
    "f,ax=plt.subplots(1,2,figsize=(15,8))\n",
    "ax[0].set_ylim(0.48,1)\n",
    "ax[0].set_title('Train Test Split')\n",
    "ax[0].plot(best_model_cv['train_acc'])\n",
    "ax[0].plot(best_model_cv['test_acc'])\n",
    "ax[0].plot(best_model_cv['train_f1_micro'])\n",
    "ax[0].plot(best_model_cv['test_f1_micro'])\n",
    "ax[0].legend()\n",
    "\n",
    "ax[1].set_title('CV')\n",
    "ax[1].set_ylim(0.48,1)\n",
    "\n",
    "ax[1].plot(best_model_cv['CV_train_micro'])\n",
    "ax[1].plot(best_model_cv['CV_test_micro'])\n",
    "ax[1].plot(best_model_cv['CV_accuracy_train'])\n",
    "ax[1].plot(best_model_cv['CV_accuracy_test'])\n",
    "plt.legend()\n",
    "plt.show()"
   ]
  },
  {
   "cell_type": "code",
   "execution_count": null,
   "metadata": {},
   "outputs": [],
   "source": []
  }
 ],
 "metadata": {
  "kernelspec": {
   "display_name": "Python 3",
   "language": "python",
   "name": "python3"
  },
  "language_info": {
   "codemirror_mode": {
    "name": "ipython",
    "version": 3
   },
   "file_extension": ".py",
   "mimetype": "text/x-python",
   "name": "python",
   "nbconvert_exporter": "python",
   "pygments_lexer": "ipython3",
   "version": "3.7.3"
  }
 },
 "nbformat": 4,
 "nbformat_minor": 2
}
